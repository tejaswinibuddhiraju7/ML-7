{
 "cells": [
  {
   "cell_type": "markdown",
   "metadata": {},
   "source": [
    "# ACADGILD ASSIGNMNET FOR KNN ALGORITHM"
   ]
  },
  {
   "cell_type": "code",
   "execution_count": 83,
   "metadata": {
    "ExecuteTime": {
     "end_time": "2018-09-18T09:53:11.806988Z",
     "start_time": "2018-09-18T09:53:11.119143Z"
    }
   },
   "outputs": [],
   "source": [
    "# import necessary libraries\n",
    "import pandas as pd\n",
    "import numpy as np\n",
    "import matplotlib.pyplot as plt"
   ]
  },
  {
   "cell_type": "code",
   "execution_count": 15,
   "metadata": {
    "ExecuteTime": {
     "end_time": "2018-09-18T09:53:11.853978Z",
     "start_time": "2018-09-18T09:53:11.808986Z"
    }
   },
   "outputs": [
    {
     "data": {
      "text/html": [
       "<div>\n",
       "<style scoped>\n",
       "    .dataframe tbody tr th:only-of-type {\n",
       "        vertical-align: middle;\n",
       "    }\n",
       "\n",
       "    .dataframe tbody tr th {\n",
       "        vertical-align: top;\n",
       "    }\n",
       "\n",
       "    .dataframe thead th {\n",
       "        text-align: right;\n",
       "    }\n",
       "</style>\n",
       "<table border=\"1\" class=\"dataframe\">\n",
       "  <thead>\n",
       "    <tr style=\"text-align: right;\">\n",
       "      <th></th>\n",
       "      <th>player</th>\n",
       "      <th>pos</th>\n",
       "      <th>age</th>\n",
       "      <th>bref_team_id</th>\n",
       "      <th>g</th>\n",
       "      <th>gs</th>\n",
       "      <th>mp</th>\n",
       "      <th>fg</th>\n",
       "      <th>fga</th>\n",
       "      <th>fg.</th>\n",
       "      <th>...</th>\n",
       "      <th>drb</th>\n",
       "      <th>trb</th>\n",
       "      <th>ast</th>\n",
       "      <th>stl</th>\n",
       "      <th>blk</th>\n",
       "      <th>tov</th>\n",
       "      <th>pf</th>\n",
       "      <th>pts</th>\n",
       "      <th>season</th>\n",
       "      <th>season_end</th>\n",
       "    </tr>\n",
       "  </thead>\n",
       "  <tbody>\n",
       "    <tr>\n",
       "      <th>0</th>\n",
       "      <td>Quincy Acy</td>\n",
       "      <td>SF</td>\n",
       "      <td>23</td>\n",
       "      <td>TOT</td>\n",
       "      <td>63</td>\n",
       "      <td>0</td>\n",
       "      <td>847</td>\n",
       "      <td>66</td>\n",
       "      <td>141</td>\n",
       "      <td>0.468</td>\n",
       "      <td>...</td>\n",
       "      <td>144</td>\n",
       "      <td>216</td>\n",
       "      <td>28</td>\n",
       "      <td>23</td>\n",
       "      <td>26</td>\n",
       "      <td>30</td>\n",
       "      <td>122</td>\n",
       "      <td>171</td>\n",
       "      <td>2013-2014</td>\n",
       "      <td>2013</td>\n",
       "    </tr>\n",
       "    <tr>\n",
       "      <th>1</th>\n",
       "      <td>Steven Adams</td>\n",
       "      <td>C</td>\n",
       "      <td>20</td>\n",
       "      <td>OKC</td>\n",
       "      <td>81</td>\n",
       "      <td>20</td>\n",
       "      <td>1197</td>\n",
       "      <td>93</td>\n",
       "      <td>185</td>\n",
       "      <td>0.503</td>\n",
       "      <td>...</td>\n",
       "      <td>190</td>\n",
       "      <td>332</td>\n",
       "      <td>43</td>\n",
       "      <td>40</td>\n",
       "      <td>57</td>\n",
       "      <td>71</td>\n",
       "      <td>203</td>\n",
       "      <td>265</td>\n",
       "      <td>2013-2014</td>\n",
       "      <td>2013</td>\n",
       "    </tr>\n",
       "    <tr>\n",
       "      <th>2</th>\n",
       "      <td>Jeff Adrien</td>\n",
       "      <td>PF</td>\n",
       "      <td>27</td>\n",
       "      <td>TOT</td>\n",
       "      <td>53</td>\n",
       "      <td>12</td>\n",
       "      <td>961</td>\n",
       "      <td>143</td>\n",
       "      <td>275</td>\n",
       "      <td>0.520</td>\n",
       "      <td>...</td>\n",
       "      <td>204</td>\n",
       "      <td>306</td>\n",
       "      <td>38</td>\n",
       "      <td>24</td>\n",
       "      <td>36</td>\n",
       "      <td>39</td>\n",
       "      <td>108</td>\n",
       "      <td>362</td>\n",
       "      <td>2013-2014</td>\n",
       "      <td>2013</td>\n",
       "    </tr>\n",
       "    <tr>\n",
       "      <th>3</th>\n",
       "      <td>Arron Afflalo</td>\n",
       "      <td>SG</td>\n",
       "      <td>28</td>\n",
       "      <td>ORL</td>\n",
       "      <td>73</td>\n",
       "      <td>73</td>\n",
       "      <td>2552</td>\n",
       "      <td>464</td>\n",
       "      <td>1011</td>\n",
       "      <td>0.459</td>\n",
       "      <td>...</td>\n",
       "      <td>230</td>\n",
       "      <td>262</td>\n",
       "      <td>248</td>\n",
       "      <td>35</td>\n",
       "      <td>3</td>\n",
       "      <td>146</td>\n",
       "      <td>136</td>\n",
       "      <td>1330</td>\n",
       "      <td>2013-2014</td>\n",
       "      <td>2013</td>\n",
       "    </tr>\n",
       "    <tr>\n",
       "      <th>4</th>\n",
       "      <td>Alexis Ajinca</td>\n",
       "      <td>C</td>\n",
       "      <td>25</td>\n",
       "      <td>NOP</td>\n",
       "      <td>56</td>\n",
       "      <td>30</td>\n",
       "      <td>951</td>\n",
       "      <td>136</td>\n",
       "      <td>249</td>\n",
       "      <td>0.546</td>\n",
       "      <td>...</td>\n",
       "      <td>183</td>\n",
       "      <td>277</td>\n",
       "      <td>40</td>\n",
       "      <td>23</td>\n",
       "      <td>46</td>\n",
       "      <td>63</td>\n",
       "      <td>187</td>\n",
       "      <td>328</td>\n",
       "      <td>2013-2014</td>\n",
       "      <td>2013</td>\n",
       "    </tr>\n",
       "  </tbody>\n",
       "</table>\n",
       "<p>5 rows × 31 columns</p>\n",
       "</div>"
      ],
      "text/plain": [
       "          player pos  age bref_team_id   g  gs    mp   fg   fga    fg.  \\\n",
       "0     Quincy Acy  SF   23          TOT  63   0   847   66   141  0.468   \n",
       "1   Steven Adams   C   20          OKC  81  20  1197   93   185  0.503   \n",
       "2    Jeff Adrien  PF   27          TOT  53  12   961  143   275  0.520   \n",
       "3  Arron Afflalo  SG   28          ORL  73  73  2552  464  1011  0.459   \n",
       "4  Alexis Ajinca   C   25          NOP  56  30   951  136   249  0.546   \n",
       "\n",
       "      ...      drb  trb  ast  stl  blk  tov   pf   pts     season  season_end  \n",
       "0     ...      144  216   28   23   26   30  122   171  2013-2014        2013  \n",
       "1     ...      190  332   43   40   57   71  203   265  2013-2014        2013  \n",
       "2     ...      204  306   38   24   36   39  108   362  2013-2014        2013  \n",
       "3     ...      230  262  248   35    3  146  136  1330  2013-2014        2013  \n",
       "4     ...      183  277   40   23   46   63  187   328  2013-2014        2013  \n",
       "\n",
       "[5 rows x 31 columns]"
      ]
     },
     "execution_count": 15,
     "metadata": {},
     "output_type": "execute_result"
    }
   ],
   "source": [
    "#Read the nba data\n",
    "df = pd.read_csv('nba_2013.csv')\n",
    "df.head()"
   ]
  },
  {
   "cell_type": "code",
   "execution_count": 16,
   "metadata": {
    "ExecuteTime": {
     "end_time": "2018-09-18T09:53:11.901934Z",
     "start_time": "2018-09-18T09:53:11.862954Z"
    }
   },
   "outputs": [
    {
     "data": {
      "text/plain": [
       "(481, 31)"
      ]
     },
     "execution_count": 16,
     "metadata": {},
     "output_type": "execute_result"
    }
   ],
   "source": [
    "df.shape"
   ]
  },
  {
   "cell_type": "code",
   "execution_count": 17,
   "metadata": {
    "ExecuteTime": {
     "end_time": "2018-09-18T09:53:12.027017Z",
     "start_time": "2018-09-18T09:53:12.017021Z"
    }
   },
   "outputs": [
    {
     "name": "stdout",
     "output_type": "stream",
     "text": [
      "<class 'pandas.core.frame.DataFrame'>\n",
      "RangeIndex: 481 entries, 0 to 480\n",
      "Data columns (total 31 columns):\n",
      "player          481 non-null object\n",
      "pos             481 non-null object\n",
      "age             481 non-null int64\n",
      "bref_team_id    481 non-null object\n",
      "g               481 non-null int64\n",
      "gs              481 non-null int64\n",
      "mp              481 non-null int64\n",
      "fg              481 non-null int64\n",
      "fga             481 non-null int64\n",
      "fg.             479 non-null float64\n",
      "x3p             481 non-null int64\n",
      "x3pa            481 non-null int64\n",
      "x3p.            414 non-null float64\n",
      "x2p             481 non-null int64\n",
      "x2pa            481 non-null int64\n",
      "x2p.            478 non-null float64\n",
      "efg.            479 non-null float64\n",
      "ft              481 non-null int64\n",
      "fta             481 non-null int64\n",
      "ft.             461 non-null float64\n",
      "orb             481 non-null int64\n",
      "drb             481 non-null int64\n",
      "trb             481 non-null int64\n",
      "ast             481 non-null int64\n",
      "stl             481 non-null int64\n",
      "blk             481 non-null int64\n",
      "tov             481 non-null int64\n",
      "pf              481 non-null int64\n",
      "pts             481 non-null int64\n",
      "season          481 non-null object\n",
      "season_end      481 non-null int64\n",
      "dtypes: float64(5), int64(22), object(4)\n",
      "memory usage: 116.6+ KB\n"
     ]
    }
   ],
   "source": [
    "df.info()"
   ]
  },
  {
   "cell_type": "code",
   "execution_count": 18,
   "metadata": {
    "ExecuteTime": {
     "end_time": "2018-09-18T09:53:12.073004Z",
     "start_time": "2018-09-18T09:53:12.029015Z"
    }
   },
   "outputs": [
    {
     "data": {
      "text/plain": [
       "player           0\n",
       "pos              0\n",
       "age              0\n",
       "bref_team_id     0\n",
       "g                0\n",
       "gs               0\n",
       "mp               0\n",
       "fg               0\n",
       "fga              0\n",
       "fg.              2\n",
       "x3p              0\n",
       "x3pa             0\n",
       "x3p.            67\n",
       "x2p              0\n",
       "x2pa             0\n",
       "x2p.             3\n",
       "efg.             2\n",
       "ft               0\n",
       "fta              0\n",
       "ft.             20\n",
       "orb              0\n",
       "drb              0\n",
       "trb              0\n",
       "ast              0\n",
       "stl              0\n",
       "blk              0\n",
       "tov              0\n",
       "pf               0\n",
       "pts              0\n",
       "season           0\n",
       "season_end       0\n",
       "dtype: int64"
      ]
     },
     "execution_count": 18,
     "metadata": {},
     "output_type": "execute_result"
    }
   ],
   "source": [
    "# Count number of NAN\n",
    "df.isna().sum()"
   ]
  },
  {
   "cell_type": "code",
   "execution_count": 20,
   "metadata": {},
   "outputs": [
    {
     "data": {
      "text/plain": [
       "Index(['player', 'pos', 'age', 'bref_team_id', 'g', 'gs', 'mp', 'fg', 'fga',\n",
       "       'fg.', 'x3p', 'x3pa', 'x3p.', 'x2p', 'x2pa', 'x2p.', 'efg.', 'ft',\n",
       "       'fta', 'ft.', 'orb', 'drb', 'trb', 'ast', 'stl', 'blk', 'tov', 'pf',\n",
       "       'pts', 'season', 'season_end'],\n",
       "      dtype='object')"
      ]
     },
     "execution_count": 20,
     "metadata": {},
     "output_type": "execute_result"
    }
   ],
   "source": [
    "df.columns # Remove player, id, season and season_end"
   ]
  },
  {
   "cell_type": "code",
   "execution_count": 21,
   "metadata": {
    "ExecuteTime": {
     "end_time": "2018-09-18T09:53:12.155129Z",
     "start_time": "2018-09-18T09:53:12.121134Z"
    }
   },
   "outputs": [],
   "source": [
    "df.drop('player',axis=1,inplace=True)"
   ]
  },
  {
   "cell_type": "code",
   "execution_count": 22,
   "metadata": {
    "ExecuteTime": {
     "end_time": "2018-09-18T09:53:12.196192Z",
     "start_time": "2018-09-18T09:53:12.157115Z"
    }
   },
   "outputs": [],
   "source": [
    "df.drop('bref_team_id',axis=1,inplace=True)"
   ]
  },
  {
   "cell_type": "code",
   "execution_count": 23,
   "metadata": {
    "ExecuteTime": {
     "end_time": "2018-09-18T09:53:12.239582Z",
     "start_time": "2018-09-18T09:53:12.199190Z"
    }
   },
   "outputs": [],
   "source": [
    "df.drop('season',axis=1,inplace=True)"
   ]
  },
  {
   "cell_type": "code",
   "execution_count": 24,
   "metadata": {
    "ExecuteTime": {
     "end_time": "2018-09-18T09:53:12.288545Z",
     "start_time": "2018-09-18T09:53:12.241547Z"
    }
   },
   "outputs": [],
   "source": [
    "df.drop('season_end',axis=1,inplace=True)"
   ]
  },
  {
   "cell_type": "code",
   "execution_count": 25,
   "metadata": {
    "ExecuteTime": {
     "end_time": "2018-09-18T09:53:12.329550Z",
     "start_time": "2018-09-18T09:53:12.291543Z"
    }
   },
   "outputs": [
    {
     "data": {
      "text/plain": [
       "Index(['pos', 'age', 'g', 'gs', 'mp', 'fg', 'fga', 'fg.', 'x3p', 'x3pa',\n",
       "       'x3p.', 'x2p', 'x2pa', 'x2p.', 'efg.', 'ft', 'fta', 'ft.', 'orb', 'drb',\n",
       "       'trb', 'ast', 'stl', 'blk', 'tov', 'pf', 'pts'],\n",
       "      dtype='object')"
      ]
     },
     "execution_count": 25,
     "metadata": {},
     "output_type": "execute_result"
    }
   ],
   "source": [
    "df.columns"
   ]
  },
  {
   "cell_type": "code",
   "execution_count": 26,
   "metadata": {
    "ExecuteTime": {
     "end_time": "2018-09-18T09:53:12.370577Z",
     "start_time": "2018-09-18T09:53:12.333547Z"
    }
   },
   "outputs": [
    {
     "data": {
      "text/plain": [
       "SG    109\n",
       "SF     99\n",
       "PF     96\n",
       "C      90\n",
       "PG     85\n",
       "G       1\n",
       "F       1\n",
       "Name: pos, dtype: int64"
      ]
     },
     "execution_count": 26,
     "metadata": {},
     "output_type": "execute_result"
    }
   ],
   "source": [
    "df['pos'].value_counts() # This is a categorical value, so we need to dummy out"
   ]
  },
  {
   "cell_type": "code",
   "execution_count": 27,
   "metadata": {
    "ExecuteTime": {
     "end_time": "2018-09-18T09:53:12.417542Z",
     "start_time": "2018-09-18T09:53:12.372579Z"
    }
   },
   "outputs": [
    {
     "data": {
      "text/html": [
       "<div>\n",
       "<style scoped>\n",
       "    .dataframe tbody tr th:only-of-type {\n",
       "        vertical-align: middle;\n",
       "    }\n",
       "\n",
       "    .dataframe tbody tr th {\n",
       "        vertical-align: top;\n",
       "    }\n",
       "\n",
       "    .dataframe thead th {\n",
       "        text-align: right;\n",
       "    }\n",
       "</style>\n",
       "<table border=\"1\" class=\"dataframe\">\n",
       "  <thead>\n",
       "    <tr style=\"text-align: right;\">\n",
       "      <th></th>\n",
       "      <th>pos_F</th>\n",
       "      <th>pos_G</th>\n",
       "      <th>pos_PF</th>\n",
       "      <th>pos_PG</th>\n",
       "      <th>pos_SF</th>\n",
       "      <th>pos_SG</th>\n",
       "    </tr>\n",
       "  </thead>\n",
       "  <tbody>\n",
       "    <tr>\n",
       "      <th>0</th>\n",
       "      <td>0</td>\n",
       "      <td>0</td>\n",
       "      <td>0</td>\n",
       "      <td>0</td>\n",
       "      <td>1</td>\n",
       "      <td>0</td>\n",
       "    </tr>\n",
       "    <tr>\n",
       "      <th>1</th>\n",
       "      <td>0</td>\n",
       "      <td>0</td>\n",
       "      <td>0</td>\n",
       "      <td>0</td>\n",
       "      <td>0</td>\n",
       "      <td>0</td>\n",
       "    </tr>\n",
       "    <tr>\n",
       "      <th>2</th>\n",
       "      <td>0</td>\n",
       "      <td>0</td>\n",
       "      <td>1</td>\n",
       "      <td>0</td>\n",
       "      <td>0</td>\n",
       "      <td>0</td>\n",
       "    </tr>\n",
       "    <tr>\n",
       "      <th>3</th>\n",
       "      <td>0</td>\n",
       "      <td>0</td>\n",
       "      <td>0</td>\n",
       "      <td>0</td>\n",
       "      <td>0</td>\n",
       "      <td>1</td>\n",
       "    </tr>\n",
       "    <tr>\n",
       "      <th>4</th>\n",
       "      <td>0</td>\n",
       "      <td>0</td>\n",
       "      <td>0</td>\n",
       "      <td>0</td>\n",
       "      <td>0</td>\n",
       "      <td>0</td>\n",
       "    </tr>\n",
       "  </tbody>\n",
       "</table>\n",
       "</div>"
      ],
      "text/plain": [
       "   pos_F  pos_G  pos_PF  pos_PG  pos_SF  pos_SG\n",
       "0      0      0       0       0       1       0\n",
       "1      0      0       0       0       0       0\n",
       "2      0      0       1       0       0       0\n",
       "3      0      0       0       0       0       1\n",
       "4      0      0       0       0       0       0"
      ]
     },
     "execution_count": 27,
     "metadata": {},
     "output_type": "execute_result"
    }
   ],
   "source": [
    "pos_upd = pd.get_dummies(df['pos'],prefix='pos',drop_first=True)\n",
    "pos_upd.head()"
   ]
  },
  {
   "cell_type": "code",
   "execution_count": 28,
   "metadata": {
    "ExecuteTime": {
     "end_time": "2018-09-18T09:53:12.458541Z",
     "start_time": "2018-09-18T09:53:12.420540Z"
    }
   },
   "outputs": [],
   "source": [
    "df.drop('pos',axis=1,inplace=True)"
   ]
  },
  {
   "cell_type": "code",
   "execution_count": 30,
   "metadata": {},
   "outputs": [
    {
     "data": {
      "text/html": [
       "<div>\n",
       "<style scoped>\n",
       "    .dataframe tbody tr th:only-of-type {\n",
       "        vertical-align: middle;\n",
       "    }\n",
       "\n",
       "    .dataframe tbody tr th {\n",
       "        vertical-align: top;\n",
       "    }\n",
       "\n",
       "    .dataframe thead th {\n",
       "        text-align: right;\n",
       "    }\n",
       "</style>\n",
       "<table border=\"1\" class=\"dataframe\">\n",
       "  <thead>\n",
       "    <tr style=\"text-align: right;\">\n",
       "      <th></th>\n",
       "      <th>age</th>\n",
       "      <th>g</th>\n",
       "      <th>gs</th>\n",
       "      <th>mp</th>\n",
       "      <th>fg</th>\n",
       "      <th>fga</th>\n",
       "      <th>fg.</th>\n",
       "      <th>x3p</th>\n",
       "      <th>x3pa</th>\n",
       "      <th>x3p.</th>\n",
       "      <th>...</th>\n",
       "      <th>ft.</th>\n",
       "      <th>orb</th>\n",
       "      <th>drb</th>\n",
       "      <th>trb</th>\n",
       "      <th>ast</th>\n",
       "      <th>stl</th>\n",
       "      <th>blk</th>\n",
       "      <th>tov</th>\n",
       "      <th>pf</th>\n",
       "      <th>pts</th>\n",
       "    </tr>\n",
       "  </thead>\n",
       "  <tbody>\n",
       "    <tr>\n",
       "      <th>0</th>\n",
       "      <td>23</td>\n",
       "      <td>63</td>\n",
       "      <td>0</td>\n",
       "      <td>847</td>\n",
       "      <td>66</td>\n",
       "      <td>141</td>\n",
       "      <td>0.468</td>\n",
       "      <td>4</td>\n",
       "      <td>15</td>\n",
       "      <td>0.266667</td>\n",
       "      <td>...</td>\n",
       "      <td>0.660</td>\n",
       "      <td>72</td>\n",
       "      <td>144</td>\n",
       "      <td>216</td>\n",
       "      <td>28</td>\n",
       "      <td>23</td>\n",
       "      <td>26</td>\n",
       "      <td>30</td>\n",
       "      <td>122</td>\n",
       "      <td>171</td>\n",
       "    </tr>\n",
       "    <tr>\n",
       "      <th>1</th>\n",
       "      <td>20</td>\n",
       "      <td>81</td>\n",
       "      <td>20</td>\n",
       "      <td>1197</td>\n",
       "      <td>93</td>\n",
       "      <td>185</td>\n",
       "      <td>0.503</td>\n",
       "      <td>0</td>\n",
       "      <td>0</td>\n",
       "      <td>NaN</td>\n",
       "      <td>...</td>\n",
       "      <td>0.581</td>\n",
       "      <td>142</td>\n",
       "      <td>190</td>\n",
       "      <td>332</td>\n",
       "      <td>43</td>\n",
       "      <td>40</td>\n",
       "      <td>57</td>\n",
       "      <td>71</td>\n",
       "      <td>203</td>\n",
       "      <td>265</td>\n",
       "    </tr>\n",
       "  </tbody>\n",
       "</table>\n",
       "<p>2 rows × 26 columns</p>\n",
       "</div>"
      ],
      "text/plain": [
       "   age   g  gs    mp  fg  fga    fg.  x3p  x3pa      x3p. ...     ft.  orb  \\\n",
       "0   23  63   0   847  66  141  0.468    4    15  0.266667 ...   0.660   72   \n",
       "1   20  81  20  1197  93  185  0.503    0     0       NaN ...   0.581  142   \n",
       "\n",
       "   drb  trb  ast  stl  blk  tov   pf  pts  \n",
       "0  144  216   28   23   26   30  122  171  \n",
       "1  190  332   43   40   57   71  203  265  \n",
       "\n",
       "[2 rows x 26 columns]"
      ]
     },
     "execution_count": 30,
     "metadata": {},
     "output_type": "execute_result"
    }
   ],
   "source": [
    "df.head(2) # We deleted pos but need to add new dummy columns "
   ]
  },
  {
   "cell_type": "code",
   "execution_count": 31,
   "metadata": {
    "ExecuteTime": {
     "end_time": "2018-09-18T09:53:12.504825Z",
     "start_time": "2018-09-18T09:53:12.460932Z"
    }
   },
   "outputs": [],
   "source": [
    "df1 = pd.concat([df,pos_upd],axis=1)"
   ]
  },
  {
   "cell_type": "code",
   "execution_count": 32,
   "metadata": {
    "ExecuteTime": {
     "end_time": "2018-09-18T09:53:12.567804Z",
     "start_time": "2018-09-18T09:53:12.507434Z"
    }
   },
   "outputs": [
    {
     "data": {
      "text/html": [
       "<div>\n",
       "<style scoped>\n",
       "    .dataframe tbody tr th:only-of-type {\n",
       "        vertical-align: middle;\n",
       "    }\n",
       "\n",
       "    .dataframe tbody tr th {\n",
       "        vertical-align: top;\n",
       "    }\n",
       "\n",
       "    .dataframe thead th {\n",
       "        text-align: right;\n",
       "    }\n",
       "</style>\n",
       "<table border=\"1\" class=\"dataframe\">\n",
       "  <thead>\n",
       "    <tr style=\"text-align: right;\">\n",
       "      <th></th>\n",
       "      <th>age</th>\n",
       "      <th>g</th>\n",
       "      <th>gs</th>\n",
       "      <th>mp</th>\n",
       "      <th>fg</th>\n",
       "      <th>fga</th>\n",
       "      <th>fg.</th>\n",
       "      <th>x3p</th>\n",
       "      <th>x3pa</th>\n",
       "      <th>x3p.</th>\n",
       "      <th>...</th>\n",
       "      <th>blk</th>\n",
       "      <th>tov</th>\n",
       "      <th>pf</th>\n",
       "      <th>pts</th>\n",
       "      <th>pos_F</th>\n",
       "      <th>pos_G</th>\n",
       "      <th>pos_PF</th>\n",
       "      <th>pos_PG</th>\n",
       "      <th>pos_SF</th>\n",
       "      <th>pos_SG</th>\n",
       "    </tr>\n",
       "  </thead>\n",
       "  <tbody>\n",
       "    <tr>\n",
       "      <th>0</th>\n",
       "      <td>23</td>\n",
       "      <td>63</td>\n",
       "      <td>0</td>\n",
       "      <td>847</td>\n",
       "      <td>66</td>\n",
       "      <td>141</td>\n",
       "      <td>0.468</td>\n",
       "      <td>4</td>\n",
       "      <td>15</td>\n",
       "      <td>0.266667</td>\n",
       "      <td>...</td>\n",
       "      <td>26</td>\n",
       "      <td>30</td>\n",
       "      <td>122</td>\n",
       "      <td>171</td>\n",
       "      <td>0</td>\n",
       "      <td>0</td>\n",
       "      <td>0</td>\n",
       "      <td>0</td>\n",
       "      <td>1</td>\n",
       "      <td>0</td>\n",
       "    </tr>\n",
       "    <tr>\n",
       "      <th>1</th>\n",
       "      <td>20</td>\n",
       "      <td>81</td>\n",
       "      <td>20</td>\n",
       "      <td>1197</td>\n",
       "      <td>93</td>\n",
       "      <td>185</td>\n",
       "      <td>0.503</td>\n",
       "      <td>0</td>\n",
       "      <td>0</td>\n",
       "      <td>NaN</td>\n",
       "      <td>...</td>\n",
       "      <td>57</td>\n",
       "      <td>71</td>\n",
       "      <td>203</td>\n",
       "      <td>265</td>\n",
       "      <td>0</td>\n",
       "      <td>0</td>\n",
       "      <td>0</td>\n",
       "      <td>0</td>\n",
       "      <td>0</td>\n",
       "      <td>0</td>\n",
       "    </tr>\n",
       "    <tr>\n",
       "      <th>2</th>\n",
       "      <td>27</td>\n",
       "      <td>53</td>\n",
       "      <td>12</td>\n",
       "      <td>961</td>\n",
       "      <td>143</td>\n",
       "      <td>275</td>\n",
       "      <td>0.520</td>\n",
       "      <td>0</td>\n",
       "      <td>0</td>\n",
       "      <td>NaN</td>\n",
       "      <td>...</td>\n",
       "      <td>36</td>\n",
       "      <td>39</td>\n",
       "      <td>108</td>\n",
       "      <td>362</td>\n",
       "      <td>0</td>\n",
       "      <td>0</td>\n",
       "      <td>1</td>\n",
       "      <td>0</td>\n",
       "      <td>0</td>\n",
       "      <td>0</td>\n",
       "    </tr>\n",
       "    <tr>\n",
       "      <th>3</th>\n",
       "      <td>28</td>\n",
       "      <td>73</td>\n",
       "      <td>73</td>\n",
       "      <td>2552</td>\n",
       "      <td>464</td>\n",
       "      <td>1011</td>\n",
       "      <td>0.459</td>\n",
       "      <td>128</td>\n",
       "      <td>300</td>\n",
       "      <td>0.426667</td>\n",
       "      <td>...</td>\n",
       "      <td>3</td>\n",
       "      <td>146</td>\n",
       "      <td>136</td>\n",
       "      <td>1330</td>\n",
       "      <td>0</td>\n",
       "      <td>0</td>\n",
       "      <td>0</td>\n",
       "      <td>0</td>\n",
       "      <td>0</td>\n",
       "      <td>1</td>\n",
       "    </tr>\n",
       "    <tr>\n",
       "      <th>4</th>\n",
       "      <td>25</td>\n",
       "      <td>56</td>\n",
       "      <td>30</td>\n",
       "      <td>951</td>\n",
       "      <td>136</td>\n",
       "      <td>249</td>\n",
       "      <td>0.546</td>\n",
       "      <td>0</td>\n",
       "      <td>1</td>\n",
       "      <td>0.000000</td>\n",
       "      <td>...</td>\n",
       "      <td>46</td>\n",
       "      <td>63</td>\n",
       "      <td>187</td>\n",
       "      <td>328</td>\n",
       "      <td>0</td>\n",
       "      <td>0</td>\n",
       "      <td>0</td>\n",
       "      <td>0</td>\n",
       "      <td>0</td>\n",
       "      <td>0</td>\n",
       "    </tr>\n",
       "  </tbody>\n",
       "</table>\n",
       "<p>5 rows × 32 columns</p>\n",
       "</div>"
      ],
      "text/plain": [
       "   age   g  gs    mp   fg   fga    fg.  x3p  x3pa      x3p.   ...    blk  tov  \\\n",
       "0   23  63   0   847   66   141  0.468    4    15  0.266667   ...     26   30   \n",
       "1   20  81  20  1197   93   185  0.503    0     0       NaN   ...     57   71   \n",
       "2   27  53  12   961  143   275  0.520    0     0       NaN   ...     36   39   \n",
       "3   28  73  73  2552  464  1011  0.459  128   300  0.426667   ...      3  146   \n",
       "4   25  56  30   951  136   249  0.546    0     1  0.000000   ...     46   63   \n",
       "\n",
       "    pf   pts  pos_F  pos_G  pos_PF  pos_PG  pos_SF  pos_SG  \n",
       "0  122   171      0      0       0       0       1       0  \n",
       "1  203   265      0      0       0       0       0       0  \n",
       "2  108   362      0      0       1       0       0       0  \n",
       "3  136  1330      0      0       0       0       0       1  \n",
       "4  187   328      0      0       0       0       0       0  \n",
       "\n",
       "[5 rows x 32 columns]"
      ]
     },
     "execution_count": 32,
     "metadata": {},
     "output_type": "execute_result"
    }
   ],
   "source": [
    "df1.head() # Now we have those pos dummy columns"
   ]
  },
  {
   "cell_type": "code",
   "execution_count": 33,
   "metadata": {
    "ExecuteTime": {
     "end_time": "2018-09-18T09:53:12.645775Z",
     "start_time": "2018-09-18T09:53:12.611777Z"
    }
   },
   "outputs": [],
   "source": [
    "df1['fg.'].fillna(df1['fg.'].mean(),inplace=True)"
   ]
  },
  {
   "cell_type": "code",
   "execution_count": 34,
   "metadata": {
    "ExecuteTime": {
     "end_time": "2018-09-18T09:53:12.687733Z",
     "start_time": "2018-09-18T09:53:12.646756Z"
    }
   },
   "outputs": [],
   "source": [
    "df1['x3p.'].fillna(df1['x3p.'].mean(),inplace=True)"
   ]
  },
  {
   "cell_type": "code",
   "execution_count": 35,
   "metadata": {
    "ExecuteTime": {
     "end_time": "2018-09-18T09:53:12.730708Z",
     "start_time": "2018-09-18T09:53:12.689734Z"
    }
   },
   "outputs": [],
   "source": [
    "df1['x2p.'].fillna(df1['x2p.'].mean(),inplace=True)"
   ]
  },
  {
   "cell_type": "code",
   "execution_count": 36,
   "metadata": {
    "ExecuteTime": {
     "end_time": "2018-09-18T09:53:12.775683Z",
     "start_time": "2018-09-18T09:53:12.732708Z"
    }
   },
   "outputs": [],
   "source": [
    "df1['efg.'].fillna(df1['efg.'].mean(),inplace=True)"
   ]
  },
  {
   "cell_type": "code",
   "execution_count": 37,
   "metadata": {
    "ExecuteTime": {
     "end_time": "2018-09-18T09:53:12.816501Z",
     "start_time": "2018-09-18T09:53:12.777682Z"
    }
   },
   "outputs": [],
   "source": [
    "df1['ft.'].fillna(df1['ft.'].mean(),inplace=True)"
   ]
  },
  {
   "cell_type": "code",
   "execution_count": 38,
   "metadata": {
    "ExecuteTime": {
     "end_time": "2018-09-18T09:53:12.863474Z",
     "start_time": "2018-09-18T09:53:12.818501Z"
    }
   },
   "outputs": [
    {
     "data": {
      "text/plain": [
       "age       0\n",
       "g         0\n",
       "gs        0\n",
       "mp        0\n",
       "fg        0\n",
       "fga       0\n",
       "fg.       0\n",
       "x3p       0\n",
       "x3pa      0\n",
       "x3p.      0\n",
       "x2p       0\n",
       "x2pa      0\n",
       "x2p.      0\n",
       "efg.      0\n",
       "ft        0\n",
       "fta       0\n",
       "ft.       0\n",
       "orb       0\n",
       "drb       0\n",
       "trb       0\n",
       "ast       0\n",
       "stl       0\n",
       "blk       0\n",
       "tov       0\n",
       "pf        0\n",
       "pts       0\n",
       "pos_F     0\n",
       "pos_G     0\n",
       "pos_PF    0\n",
       "pos_PG    0\n",
       "pos_SF    0\n",
       "pos_SG    0\n",
       "dtype: int64"
      ]
     },
     "execution_count": 38,
     "metadata": {},
     "output_type": "execute_result"
    }
   ],
   "source": [
    "df1.isna().sum()"
   ]
  },
  {
   "cell_type": "code",
   "execution_count": 39,
   "metadata": {
    "ExecuteTime": {
     "end_time": "2018-09-18T09:53:12.900454Z",
     "start_time": "2018-09-18T09:53:12.865472Z"
    }
   },
   "outputs": [
    {
     "data": {
      "text/plain": [
       "(481,)"
      ]
     },
     "execution_count": 39,
     "metadata": {},
     "output_type": "execute_result"
    }
   ],
   "source": [
    "df1_y = df1['pts']\n",
    "df1_y.shape"
   ]
  },
  {
   "cell_type": "code",
   "execution_count": 43,
   "metadata": {
    "ExecuteTime": {
     "end_time": "2018-09-18T09:53:12.966416Z",
     "start_time": "2018-09-18T09:53:12.902453Z"
    }
   },
   "outputs": [
    {
     "data": {
      "text/plain": [
       "(481, 31)"
      ]
     },
     "execution_count": 43,
     "metadata": {},
     "output_type": "execute_result"
    }
   ],
   "source": [
    "df1_x = df1.drop(['pts'], axis = 'columns')\n",
    "df1_x.shape"
   ]
  },
  {
   "cell_type": "code",
   "execution_count": 45,
   "metadata": {},
   "outputs": [
    {
     "data": {
      "text/html": [
       "<div>\n",
       "<style scoped>\n",
       "    .dataframe tbody tr th:only-of-type {\n",
       "        vertical-align: middle;\n",
       "    }\n",
       "\n",
       "    .dataframe tbody tr th {\n",
       "        vertical-align: top;\n",
       "    }\n",
       "\n",
       "    .dataframe thead th {\n",
       "        text-align: right;\n",
       "    }\n",
       "</style>\n",
       "<table border=\"1\" class=\"dataframe\">\n",
       "  <thead>\n",
       "    <tr style=\"text-align: right;\">\n",
       "      <th></th>\n",
       "      <th>age</th>\n",
       "      <th>g</th>\n",
       "      <th>gs</th>\n",
       "      <th>mp</th>\n",
       "      <th>fg</th>\n",
       "      <th>fga</th>\n",
       "      <th>fg.</th>\n",
       "      <th>x3p</th>\n",
       "      <th>x3pa</th>\n",
       "      <th>x3p.</th>\n",
       "      <th>...</th>\n",
       "      <th>stl</th>\n",
       "      <th>blk</th>\n",
       "      <th>tov</th>\n",
       "      <th>pf</th>\n",
       "      <th>pos_F</th>\n",
       "      <th>pos_G</th>\n",
       "      <th>pos_PF</th>\n",
       "      <th>pos_PG</th>\n",
       "      <th>pos_SF</th>\n",
       "      <th>pos_SG</th>\n",
       "    </tr>\n",
       "  </thead>\n",
       "  <tbody>\n",
       "    <tr>\n",
       "      <th>0</th>\n",
       "      <td>23</td>\n",
       "      <td>63</td>\n",
       "      <td>0</td>\n",
       "      <td>847</td>\n",
       "      <td>66</td>\n",
       "      <td>141</td>\n",
       "      <td>0.468</td>\n",
       "      <td>4</td>\n",
       "      <td>15</td>\n",
       "      <td>0.266667</td>\n",
       "      <td>...</td>\n",
       "      <td>23</td>\n",
       "      <td>26</td>\n",
       "      <td>30</td>\n",
       "      <td>122</td>\n",
       "      <td>0</td>\n",
       "      <td>0</td>\n",
       "      <td>0</td>\n",
       "      <td>0</td>\n",
       "      <td>1</td>\n",
       "      <td>0</td>\n",
       "    </tr>\n",
       "    <tr>\n",
       "      <th>1</th>\n",
       "      <td>20</td>\n",
       "      <td>81</td>\n",
       "      <td>20</td>\n",
       "      <td>1197</td>\n",
       "      <td>93</td>\n",
       "      <td>185</td>\n",
       "      <td>0.503</td>\n",
       "      <td>0</td>\n",
       "      <td>0</td>\n",
       "      <td>0.285111</td>\n",
       "      <td>...</td>\n",
       "      <td>40</td>\n",
       "      <td>57</td>\n",
       "      <td>71</td>\n",
       "      <td>203</td>\n",
       "      <td>0</td>\n",
       "      <td>0</td>\n",
       "      <td>0</td>\n",
       "      <td>0</td>\n",
       "      <td>0</td>\n",
       "      <td>0</td>\n",
       "    </tr>\n",
       "  </tbody>\n",
       "</table>\n",
       "<p>2 rows × 31 columns</p>\n",
       "</div>"
      ],
      "text/plain": [
       "   age   g  gs    mp  fg  fga    fg.  x3p  x3pa      x3p.   ...    stl  blk  \\\n",
       "0   23  63   0   847  66  141  0.468    4    15  0.266667   ...     23   26   \n",
       "1   20  81  20  1197  93  185  0.503    0     0  0.285111   ...     40   57   \n",
       "\n",
       "   tov   pf  pos_F  pos_G  pos_PF  pos_PG  pos_SF  pos_SG  \n",
       "0   30  122      0      0       0       0       1       0  \n",
       "1   71  203      0      0       0       0       0       0  \n",
       "\n",
       "[2 rows x 31 columns]"
      ]
     },
     "execution_count": 45,
     "metadata": {},
     "output_type": "execute_result"
    }
   ],
   "source": [
    "df1_x.head(2)"
   ]
  },
  {
   "cell_type": "code",
   "execution_count": 99,
   "metadata": {
    "ExecuteTime": {
     "end_time": "2018-09-18T09:53:13.008392Z",
     "start_time": "2018-09-18T09:53:12.968414Z"
    }
   },
   "outputs": [],
   "source": [
    "from sklearn import preprocessing\n",
    "from sklearn.preprocessing import Imputer\n",
    "from sklearn.model_selection import train_test_split\n",
    "from sklearn.neighbors import KNeighborsRegressor"
   ]
  },
  {
   "cell_type": "code",
   "execution_count": 53,
   "metadata": {},
   "outputs": [],
   "source": [
    "norm_nba_features = preprocessing.normalize(df1_x)"
   ]
  },
  {
   "cell_type": "code",
   "execution_count": 100,
   "metadata": {
    "ExecuteTime": {
     "end_time": "2018-09-18T09:53:13.051364Z",
     "start_time": "2018-09-18T09:53:13.010389Z"
    }
   },
   "outputs": [],
   "source": [
    "X_train, X_test, y_train, y_test = train_test_split(\n",
    " norm_nba_features, df1_y, train_size=0.70, test_size=0.30, random_state = 42)\n"
   ]
  },
  {
   "cell_type": "code",
   "execution_count": 101,
   "metadata": {
    "ExecuteTime": {
     "end_time": "2018-09-18T09:53:13.379197Z",
     "start_time": "2018-09-18T09:53:13.053366Z"
    }
   },
   "outputs": [
    {
     "name": "stdout",
     "output_type": "stream",
     "text": [
      "Accuracy is  50.86178639068737 % for knn_num: 1\n",
      "Accuracy is  67.01390377929988 % for knn_num: 2\n",
      "Accuracy is  66.85696580444262 % for knn_num: 3\n",
      "Accuracy is  67.73234181835366 % for knn_num: 4\n",
      "Accuracy is  68.50455420102975 % for knn_num: 5\n",
      "Accuracy is  70.17999773308448 % for knn_num: 6\n",
      "Accuracy is  70.24416152786569 % for knn_num: 7\n",
      "Accuracy is  71.13016550246545 % for knn_num: 8\n",
      "Accuracy is  70.23769749975428 % for knn_num: 9\n",
      "Accuracy is  69.36362346156201 % for knn_num: 10\n",
      "Accuracy is  69.94892312623521 % for knn_num: 11\n",
      "Accuracy is  69.83478059100588 % for knn_num: 12\n",
      "Accuracy is  69.30399238826068 % for knn_num: 13\n",
      "Accuracy is  68.72187432113162 % for knn_num: 14\n",
      "Accuracy is  68.27315305455048 % for knn_num: 15\n",
      "Accuracy is  68.4374317590162 % for knn_num: 16\n",
      "Accuracy is  68.03545034254654 % for knn_num: 17\n",
      "Accuracy is  67.43618915225834 % for knn_num: 18\n",
      "Accuracy is  66.50824404962081 % for knn_num: 19\n",
      "Accuracy is  66.37640642341407 % for knn_num: 20\n"
     ]
    },
    {
     "data": {
      "image/png": "[encoded data removed]",
      "text/plain": [
       "<Figure size 432x288 with 1 Axes>"
      ]
     },
     "metadata": {
      "needs_background": "light"
     },
     "output_type": "display_data"
    }
   ],
   "source": [
    "acc = []\n",
    "knn_l = []\n",
    "for i in range(20):\n",
    "    knn_num = i+1\n",
    "    knn_l.append(knn_num)\n",
    "    knn_cls = KNeighborsRegressor(n_neighbors = knn_num, weights='distance', algorithm='auto',metric='minkowski')\n",
    "    knn_cls.fit(X_train, y_train)\n",
    "    y_pred = knn_cls.predict(X_test)\n",
    "    print(\"Accuracy is \", knn_cls.score(X_test,y_test)*100,\"% for knn_num:\",knn_num)\n",
    "    acc.append(knn_cls.score(X_test,y_test)*100)\n",
    "plt.plot(knn_l,acc)\n",
    "plt.xlabel(\"Number of neighbors\")\n",
    "plt.ylabel(\"Accuracy\")\n",
    "plt.show()"
   ]
  },
  {
   "cell_type": "code",
   "execution_count": null,
   "metadata": {},
   "outputs": [],
   "source": []
  }
 ],
 "metadata": {
  "kernelspec": {
   "display_name": "Python 3",
   "language": "python",
   "name": "python3"
  },
  "language_info": {
   "codemirror_mode": {
    "name": "ipython",
    "version": 3
   },
   "file_extension": ".py",
   "mimetype": "text/x-python",
   "name": "python",
   "nbconvert_exporter": "python",
   "pygments_lexer": "ipython3",
   "version": "3.7.0"
  }
 },
 "nbformat": 4,
 "nbformat_minor": 2
}
